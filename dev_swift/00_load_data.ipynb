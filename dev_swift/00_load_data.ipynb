{
 "cells": [
  {
   "cell_type": "code",
   "execution_count": null,
   "metadata": {},
   "outputs": [
    {
     "name": "stdout",
     "output_type": "stream",
     "text": [
      "Installing packages:\n",
      "\t.package(url: \"https://github.com/mxcl/Path.swift\", from: \"0.16.1\")\n",
      "\t\tPath\n",
      "\t.package(url: \"https://github.com/JustHTTP/Just\", from: \"0.7.1\")\n",
      "\t\tJust\n",
      "Working in: /tmp/tmp9cp9u3_g\n",
      "Fetching https://github.com/mxcl/Path.swift\n",
      "Fetching https://github.com/JustHTTP/Just\n",
      "Completed resolution in 2.23s\n",
      "Cloning https://github.com/JustHTTP/Just\n",
      "Resolving https://github.com/JustHTTP/Just at 0.7.1\n",
      "Cloning https://github.com/mxcl/Path.swift\n",
      "Resolving https://github.com/mxcl/Path.swift at 0.16.2\n",
      "Compile Swift Module 'Path' (9 sources)\n",
      "Compile Swift Module 'Just' (1 sources)\n",
      "Compile Swift Module 'jupyterInstalledPackages' (1 sources)\n",
      "Linking ./.build/x86_64-unknown-linux/debug/libjupyterInstalledPackages.so\n",
      "Installation complete!"
     ]
    }
   ],
   "source": [
    "%install '.package(url: \"https://github.com/mxcl/Path.swift\", from: \"0.16.1\")' Path\n",
    "%install '.package(url: \"https://github.com/JustHTTP/Just\", from: \"0.7.1\")' Just"
   ]
  },
  {
   "cell_type": "markdown",
   "metadata": {},
   "source": [
    "## Getting the MNIST dataset"
   ]
  },
  {
   "cell_type": "code",
   "execution_count": null,
   "metadata": {},
   "outputs": [],
   "source": [
    "// export\n",
    "import Foundation\n",
    "import Path\n",
    "import Just"
   ]
  },
  {
   "cell_type": "code",
   "execution_count": null,
   "metadata": {},
   "outputs": [],
   "source": [
    "//export\n",
    "public func shell_cmd(_ launchPath: String, _ arguments: [String]) -> String?\n",
    "{\n",
    "    let task = Process()\n",
    "    task.executableURL = URL.init(fileURLWithPath:launchPath)\n",
    "    task.arguments = arguments\n",
    "\n",
    "    let pipe = Pipe()\n",
    "    task.standardOutput = pipe\n",
    "    do {try task.run()} catch {print(\"Unexpected error: \\(error).\")}\n",
    "\n",
    "    let data = pipe.fileHandleForReading.readDataToEndOfFile()\n",
    "    let output = String(data: data, encoding: String.Encoding.utf8)\n",
    "\n",
    "    return output\n",
    "}"
   ]
  },
  {
   "cell_type": "code",
   "execution_count": null,
   "metadata": {},
   "outputs": [
    {
     "name": "stdout",
     "output_type": "stream",
     "text": [
      "total 9.6M\r\n",
      "-rw-rw-r-- 1 ubuntu ubuntu  13K Mar 29 14:39 00_load_data.ipynb\r\n",
      "-rw-rw-r-- 1 ubuntu ubuntu  27K Mar 28 16:59 01_matmul.ipynb\r\n",
      "-rw-rw-r-- 1 ubuntu ubuntu 8.6K Mar 29 14:41 02_fully_connected.ipynb\r\n",
      "drwxrwxr-x 3 ubuntu ubuntu 4.0K Mar 26 19:58 FastaiNotebooks\r\n",
      "drwxrwxr-x 3 ubuntu ubuntu 4.0K Mar 26 19:58 Notebook2Script\r\n",
      "-rw-rw-r-- 1 ubuntu ubuntu  407 Mar 27 16:59 title.ipynb\r\n",
      "-rw-rw-r-- 1 ubuntu ubuntu 9.5M Mar 26 14:43 train-images-idx3-ubyte.gz\r\n",
      "\r\n"
     ]
    }
   ],
   "source": [
    "if let res = shell_cmd(\"/bin/ls\", [\"-lh\"]){print(res)}"
   ]
  },
  {
   "cell_type": "code",
   "execution_count": null,
   "metadata": {},
   "outputs": [],
   "source": [
    "//export\n",
    "public func download_file(_ url: String, dest: String?=nil, force: Bool=false){\n",
    "    let dest_name = (dest ?? (Path.cwd/url.split(separator: \"/\").last!).string)\n",
    "    let url_dest = URL.init(fileURLWithPath: (dest ?? (Path.cwd/url.split(separator: \"/\").last!).string))\n",
    "    if (force || !Path(dest_name)!.exists){\n",
    "        print(\"Downloading \\(url)...\")\n",
    "        if let cts = Just.get(url).content{\n",
    "            do    {try cts.write(to: URL.init(fileURLWithPath:dest_name))}\n",
    "            catch {print(\"Can't write to \\(url_dest).\\n\\(error)\")}\n",
    "        } else {print(\"Can't reach \\(url)\")}\n",
    "    }\n",
    "}"
   ]
  },
  {
   "cell_type": "code",
   "execution_count": null,
   "metadata": {},
   "outputs": [],
   "source": [
    "download_file(\"http://yann.lecun.com/exdb/mnist/train-images-idx3-ubyte.gz\")"
   ]
  },
  {
   "cell_type": "code",
   "execution_count": null,
   "metadata": {},
   "outputs": [],
   "source": [
    "//export\n",
    "import TensorFlow"
   ]
  },
  {
   "cell_type": "code",
   "execution_count": null,
   "metadata": {},
   "outputs": [],
   "source": [
    "//export\n",
    "protocol ConvertableFromByte {\n",
    "    init(_ d:UInt8)\n",
    "}"
   ]
  },
  {
   "cell_type": "code",
   "execution_count": null,
   "metadata": {},
   "outputs": [],
   "source": [
    "//export\n",
    "extension Float : ConvertableFromByte{}\n",
    "extension Int32 : ConvertableFromByte{}"
   ]
  },
  {
   "cell_type": "code",
   "execution_count": null,
   "metadata": {},
   "outputs": [],
   "source": [
    "//export\n",
    "func get_data<T:ConvertableFromByte & TensorFlowScalar>(_ fn:String, _ skip:Int) -> Tensor<T> {\n",
    "    let data = try! Data.init(contentsOf: URL.init(fileURLWithPath: fn)).dropFirst(skip)\n",
    "    return Tensor(data.map(T.init))\n",
    "}"
   ]
  },
  {
   "cell_type": "code",
   "execution_count": null,
   "metadata": {},
   "outputs": [],
   "source": [
    "// export\n",
    "public struct MnistDataset{\n",
    "    let base_url = \"http://yann.lecun.com/exdb/mnist/\"\n",
    "    let trn_imgs = \"train-images-idx3-ubyte\"\n",
    "    let trn_lbls = \"train-labels-idx1-ubyte\"\n",
    "    let val_imgs = \"t10k-images-idx3-ubyte\"\n",
    "    let val_lbls = \"t10k-labels-idx1-ubyte\" \n",
    "    \n",
    "    var path = Path.cwd\n",
    "    \n",
    "    public init(path: Path){\n",
    "        self.path = path\n",
    "        if !path.exists {try! path.mkdir(.p)}\n",
    "        let data_files = [path/trn_imgs, path/trn_lbls, path/val_imgs, path/val_lbls]\n",
    "        for file in data_files{\n",
    "            if !file.exists {\n",
    "                let fname = file.basename()\n",
    "                download_file(\"\\(base_url)\\(fname).gz\", dest:(path/\"\\(fname).gz\").string)\n",
    "                _ = shell_cmd(\"/bin/gunzip\", [\"-fq\", (path/\"\\(fname).gz\").string])\n",
    "            }\n",
    "        }\n",
    "    }\n",
    "    \n",
    "    func get_data<T:ConvertableFromByte & TensorFlowScalar>(_ fn:String, _ skip:Int) -> Tensor<T> {\n",
    "        let data = try! Data.init(contentsOf: URL.init(fileURLWithPath: fn)).dropFirst(skip)\n",
    "        return Tensor(data.map(T.init))\n",
    "    }\n",
    "    \n",
    "    public var xTrain: Tensor<Float> {\n",
    "        let data: Tensor<Float> = get_data((path/trn_imgs).string, 16)/255.0\n",
    "        return data.reshaped(toShape: [60_000, 784])\n",
    "    }\n",
    "    public var yTrain: Tensor<Int32> {return get_data((path/trn_lbls).string, 8)}\n",
    "    public var xValid: Tensor<Float> {\n",
    "        let data: Tensor<Float> = get_data((path/val_imgs).string, 16)/255.0\n",
    "        return data.reshaped(toShape: [10_000, 784])\n",
    "    }\n",
    "    public var yValid: Tensor<Int32> {return get_data((path/val_lbls).string, 8)}\n",
    "}"
   ]
  },
  {
   "cell_type": "code",
   "execution_count": null,
   "metadata": {},
   "outputs": [],
   "source": [
    "let mnist = MnistDataset(path: Path.home/\".fastai\"/\"data\"/\"mnist_tst\")"
   ]
  },
  {
   "cell_type": "markdown",
   "metadata": {},
   "source": [
    "## Timing"
   ]
  },
  {
   "cell_type": "code",
   "execution_count": null,
   "metadata": {},
   "outputs": [],
   "source": [
    "//export \n",
    "import Dispatch\n",
    "public func time(_ function: () -> ()) {\n",
    "    let start = DispatchTime.now()\n",
    "    function()\n",
    "    let end = DispatchTime.now()\n",
    "    let nanoseconds = Double(end.uptimeNanoseconds - start.uptimeNanoseconds)\n",
    "    let milliseconds = nanoseconds / 1e6\n",
    "    print(\"\\(milliseconds) ms\")\n",
    "}"
   ]
  },
  {
   "cell_type": "code",
   "execution_count": null,
   "metadata": {},
   "outputs": [
    {
     "name": "stdout",
     "output_type": "stream",
     "text": [
      "2019-03-29 14:43:22.536478: W tensorflow/core/framework/allocator.cc:116] Allocation of 188160000 exceeds 10% of system memory.\n",
      "2019-03-29 14:43:22.693256: I tensorflow/core/platform/cpu_feature_guard.cc:142] Your CPU supports instructions that this TensorFlow binary was not compiled to use: SSE4.1 SSE4.2 AVX AVX2 FMA\n",
      "2019-03-29 14:43:22.741985: I tensorflow/core/platform/profile_utils/cpu_utils.cc:94] CPU Frequency: 2300035000 Hz\n",
      "2019-03-29 14:43:22.885093: I tensorflow/stream_executor/platform/default/dso_loader.cc:42] Successfully opened CUDA library libcuda.so.1\n",
      "2019-03-29 14:43:22.994137: I tensorflow/stream_executor/cuda/cuda_gpu_executor.cc:1010] successful NUMA node read from SysFS had negative value (-1), but there must be at least one NUMA node, so returning NUMA node zero\n",
      "2019-03-29 14:43:22.994552: I tensorflow/core/common_runtime/gpu/gpu_device.cc:1467] Found device 0 with properties: \n",
      "name: Tesla M60 major: 5 minor: 2 memoryClockRate(GHz): 1.1775\n",
      "pciBusID: 0000:00:1e.0\n",
      "totalMemory: 7.44GiB freeMemory: 6.86GiB\n",
      "2019-03-29 14:43:22.994596: I tensorflow/core/common_runtime/gpu/gpu_device.cc:1546] Adding visible gpu devices: 0\n",
      "2019-03-29 14:43:23.007325: I tensorflow/stream_executor/platform/default/dso_loader.cc:42] Successfully opened CUDA library libcudart.so.10.0\n",
      "2019-03-29 14:43:23.007907: I tensorflow/core/common_runtime/gpu/gpu_device.cc:1015] Device interconnect StreamExecutor with strength 1 edge matrix:\n",
      "2019-03-29 14:43:23.007933: I tensorflow/core/common_runtime/gpu/gpu_device.cc:1021]      0 \n",
      "2019-03-29 14:43:23.007955: I tensorflow/core/common_runtime/gpu/gpu_device.cc:1034] 0:   N \n",
      "2019-03-29 14:43:23.008167: I tensorflow/core/common_runtime/gpu/gpu_device.cc:1149] Created TensorFlow device (/job:localhost/replica:0/task:0/device:GPU:0 with 6674 MB memory) -> physical GPU (device: 0, name: Tesla M60, pci bus id: 0000:00:1e.0, compute capability: 5.2)\n",
      "12724.514578 ms\n"
     ]
    }
   ],
   "source": [
    "time {var trn_imgs = mnist.xTrain}"
   ]
  },
  {
   "cell_type": "code",
   "execution_count": null,
   "metadata": {},
   "outputs": [],
   "source": [
    "//export \n",
    "public func time(repeating: Int, _ function: () -> ()) {\n",
    "    function()\n",
    "    var times:[Double] = []\n",
    "    for _ in 1...repeating{\n",
    "        let start = DispatchTime.now()\n",
    "        function()\n",
    "        let end = DispatchTime.now()\n",
    "        let nanoseconds = Double(end.uptimeNanoseconds - start.uptimeNanoseconds)\n",
    "        let milliseconds = nanoseconds / 1e6\n",
    "        times.append(milliseconds)\n",
    "    }\n",
    "    print(\"\\(times.reduce(0.0, +)/Double(times.count)) ms\")\n",
    "}"
   ]
  },
  {
   "cell_type": "code",
   "execution_count": null,
   "metadata": {},
   "outputs": [
    {
     "name": "stdout",
     "output_type": "stream",
     "text": [
      "2019-03-29 14:43:35.005422: W tensorflow/core/framework/allocator.cc:116] Allocation of 188160000 exceeds 10% of system memory.\n",
      "2019-03-29 14:43:36.506822: W tensorflow/core/framework/allocator.cc:116] Allocation of 188160000 exceeds 10% of system memory.\n",
      "2019-03-29 14:43:38.052621: W tensorflow/core/framework/allocator.cc:116] Allocation of 188160000 exceeds 10% of system memory.\n",
      "2019-03-29 14:43:39.604053: W tensorflow/core/framework/allocator.cc:116] Allocation of 188160000 exceeds 10% of system memory.\n",
      "1531.044589 ms\n"
     ]
    }
   ],
   "source": [
    "time(repeating:10) {var trn_imgs = mnist.xTrain}"
   ]
  },
  {
   "cell_type": "markdown",
   "metadata": {},
   "source": [
    "## Export"
   ]
  },
  {
   "cell_type": "code",
   "execution_count": null,
   "metadata": {},
   "outputs": [],
   "source": [
    "// export\n",
    "func notebook2script(fname: String){\n",
    "    let url_fname = URL.init(fileURLWithPath: fname)\n",
    "    let last = fname.lastPathComponent\n",
    "    let out_fname = (url_fname.deletingLastPathComponent().appendingPathComponent(\"FastaiNotebooks\", isDirectory: true)\n",
    "                     .appendingPathComponent(\"Sources\", isDirectory: true)\n",
    "                     .appendingPathComponent(\"FastaiNotebooks\", isDirectory: true).appendingPathComponent(last)\n",
    "                     .deletingPathExtension().appendingPathExtension(\"swift\"))\n",
    "    do{\n",
    "        let data = try Data.init(contentsOf: url_fname)\n",
    "        let json_data = try! JSONSerialization.jsonObject(with: data, options: .allowFragments) as! [String: Any]\n",
    "        let cells = json_data[\"cells\"] as! [[String:Any]]\n",
    "        var module = \"\"\"\n",
    "/*\n",
    "THIS FILE WAS AUTOGENERATED! DO NOT EDIT!\n",
    "file to edit: \\(fname.lastPathComponent)\n",
    "\n",
    "*/\n",
    "        \n",
    "\"\"\"\n",
    "        for cell in cells{\n",
    "            if let source = cell[\"source\"] as? [String]{\n",
    "                if source.isEmpty {continue}\n",
    "                if source[0].range(of: #\"^\\s*//\\s*export\\s*$\"#, options: .regularExpression) != nil{\n",
    "                    module.append(\"\\n\" + source[1...].joined() + \"\\n\")\n",
    "                }\n",
    "            }\n",
    "        }\n",
    "        try? module.write(to: out_fname, atomically: false, encoding: .utf8)\n",
    "    } catch {print(\"Can't read the content of \\(fname)\")}\n",
    "}"
   ]
  },
  {
   "cell_type": "code",
   "execution_count": null,
   "metadata": {},
   "outputs": [],
   "source": [
    "// export\n",
    "public func export_notebooks(_ path: Path){\n",
    "    for entry in try! path.ls(){\n",
    "        if entry.kind == Entry.Kind.file{\n",
    "            if entry.path.basename().range(of: #\"^\\d*_.*ipynb$\"#, options: .regularExpression) != nil { \n",
    "                print(\"Converting \\(entry.path.basename())\")\n",
    "                notebook2script(fname: entry.path.basename())\n",
    "            }\n",
    "        }\n",
    "    }\n",
    "}"
   ]
  },
  {
   "cell_type": "code",
   "execution_count": null,
   "metadata": {},
   "outputs": [
    {
     "name": "stdout",
     "output_type": "stream",
     "text": [
      "Converting 02_fully_connected.ipynb\r\n",
      "Converting 00_load_data.ipynb\r\n",
      "Converting 01_matmul.ipynb\r\n"
     ]
    }
   ],
   "source": [
    "export_notebooks(Path.cwd)"
   ]
  },
  {
   "cell_type": "code",
   "execution_count": null,
   "metadata": {},
   "outputs": [],
   "source": []
  }
 ],
 "metadata": {
  "kernelspec": {
   "display_name": "Swift",
   "language": "swift",
   "name": "swift"
  }
 },
 "nbformat": 4,
 "nbformat_minor": 2
}
